{
 "cells": [
  {
   "cell_type": "markdown",
   "metadata": {},
   "source": [
    "### Load according data"
   ]
  },
  {
   "cell_type": "code",
   "execution_count": 14,
   "metadata": {},
   "outputs": [
    {
     "name": "stdout",
     "output_type": "stream",
     "text": [
      "<class 'pandas.core.series.Series'>\n",
      "MultiIndex: 14 entries, (\"<oemof.solph.buses._bus.Bus: 'co2_emissions_bus'>\", \"<oemof.solph.components._sink.Sink: 'co2_emissions'>\") to (\"<oemof.solph.components._source.Source: 'wind'>\", \"<oemof.solph.buses._bus.Bus: 'electricity'>\")\n",
      "Series name: None\n",
      "Non-Null Count  Dtype \n",
      "--------------  ----- \n",
      "14 non-null     object\n",
      "dtypes: object(1)\n",
      "memory usage: 908.0+ bytes\n",
      "None\n"
     ]
    }
   ],
   "source": [
    "import pandas as pd\n",
    "import oemof.solph as solph\n",
    "\n",
    "\n",
    "#restore and load energy system\n",
    "energy_system = solph.EnergySystem()\n",
    "energy_system.restore('C:\\\\Users\\\\ann82611\\\\ownCloud\\\\U-Platte\\\\04_Code\\\\hydrogen_hub\\\\h2_hub_minimalschnitt\\\\h2_hub_dumps', 'h2_hub_dump.oemof')\n",
    "\n",
    "results_main = energy_system.results['main']\n",
    "results_meta = energy_system.results['meta'] #for costs\n",
    "\n",
    "\n",
    "# Convert the results to a DataFrame\n",
    "results = pd.Series(results_main)\n",
    "results_meta_pd = pd.Series(results_meta)\n",
    "print(results.info())\n",
    "#print(results.describe())\n",
    "\n"
   ]
  },
  {
   "cell_type": "markdown",
   "metadata": {},
   "source": [
    "## System Performance\n",
    "The system performance is defined per below consisting of:\n",
    "* Electricity deliverd to steel mill\n",
    "* Hydrogen deliverd to steel mill\n",
    "* Co2 Emissions\n",
    "* Costs #aufsummierte kosten\n",
    "\n",
    "Please keep in mind that the definition of the system performance may vary over time and also to the considered system accordingly."
   ]
  },
  {
   "cell_type": "code",
   "execution_count": 12,
   "metadata": {},
   "outputs": [
    {
     "name": "stdout",
     "output_type": "stream",
     "text": [
      "variable_name              flow\n",
      "2019-01-01 00:00:00  57000000.0\n",
      "2019-01-01 01:00:00  57000000.0\n",
      "2019-01-01 02:00:00  57000000.0\n",
      "2019-01-01 03:00:00  57000000.0\n",
      "2019-01-01 04:00:00  57000000.0\n",
      "...                         ...\n",
      "2019-12-31 20:00:00  57000000.0\n",
      "2019-12-31 21:00:00  57000000.0\n",
      "2019-12-31 22:00:00  57000000.0\n",
      "2019-12-31 23:00:00  57000000.0\n",
      "2020-01-01 00:00:00         NaN\n",
      "\n",
      "[8761 rows x 1 columns]\n",
      "85715871284500.0\n"
     ]
    },
    {
     "name": "stderr",
     "output_type": "stream",
     "text": [
      "c:\\Users\\ann82611\\AppData\\Local\\Programs\\Python\\Python312\\Lib\\site-packages\\oemof\\network\\energy_system.py:205: ExperimentalFeatureWarning: The API to access nodes by label is experimental and might change without prior notice.\n",
      "  warnings.warn(msg, debugging.ExperimentalFeatureWarning)\n"
     ]
    }
   ],
   "source": [
    "# for key in results_main.keys():\n",
    "#     print(key)\n",
    "#Schlüssel sind objekte (keine Strings!) \n",
    "\n",
    "# get flows\n",
    "flow_el_steel = results.loc[(energy_system.node['electricity'], energy_system.node['steel_mill'])]['sequences']\n",
    "print(flow_el_steel)\n",
    "\n",
    "\n",
    "costs = results_meta_pd['objective']\n",
    "print(costs)"
   ]
  },
  {
   "cell_type": "code",
   "execution_count": 49,
   "metadata": {},
   "outputs": [
    {
     "name": "stdout",
     "output_type": "stream",
     "text": [
      "(\"<oemof.solph.buses._bus.Bus: 'electricity'>\", \"<oemof.solph.components._sink.Sink: 'electricity_slack'>\")\n",
      "(\"<oemof.solph.buses._bus.Bus: 'electricity'>\", \"<oemof.solph.components._converter.Converter: 'electrolyzer'>\")\n",
      "(\"<oemof.solph.buses._bus.Bus: 'electricity'>\", \"<oemof.solph.components._sink.Sink: 'steel_mill'>\")\n",
      "(\"<oemof.solph.components._converter.Converter: 'electrolyzer'>\", \"<oemof.solph.buses._bus.Bus: 'h2_to_storage'>\")\n",
      "(\"<oemof.solph.components._source.Source: 'grid'>\", \"<oemof.solph.buses._bus.Bus: 'electricity'>\")\n",
      "(\"<oemof.solph.components._source.Source: 'h2_ship'>\", \"<oemof.solph.buses._bus.Bus: 'h2_to_storage'>\")\n",
      "(\"<oemof.solph.components._generic_storage.GenericStorage: 'h2_storage'>\", nan)\n",
      "(\"<oemof.solph.components._generic_storage.GenericStorage: 'h2_storage'>\", \"<oemof.solph.buses._bus.Bus: 'h2_to_production'>\")\n",
      "(\"<oemof.solph.buses._bus.Bus: 'h2_to_production'>\", \"<oemof.solph.components._sink.Sink: 'steel_mill'>\")\n",
      "(\"<oemof.solph.buses._bus.Bus: 'h2_to_storage'>\", \"<oemof.solph.components._generic_storage.GenericStorage: 'h2_storage'>\")\n",
      "(\"<oemof.solph.components._source.Source: 'pv'>\", \"<oemof.solph.buses._bus.Bus: 'electricity'>\")\n",
      "(\"<oemof.solph.components._source.Source: 'wind'>\", \"<oemof.solph.buses._bus.Bus: 'electricity'>\")\n"
     ]
    }
   ],
   "source": [
    "from oemof.solph import views\n",
    "from oemof.solph.components import Sink\n",
    "\n",
    "# views.convert_keys_to_strings(results)\n",
    "\n",
    "\n",
    "\n",
    "\n",
    "# for key in results.keys():\n",
    "#     print(key)\n",
    "# print(results[('electricity','steel_mill')]['sequences'])\n",
    "\n",
    "# flows = [x for x in results.keys() if x[1] is not None]\n",
    "# nodes = [x for x in results.keys() if x[1] is None]\n",
    "\n",
    "# for node in nodes:\n",
    "#     print(f\"Node: {node}\")\n",
    "\n",
    "# for flow in flows:\n",
    "#     print(flow)\n",
    "# # # Access the flow between electricity and steel_mill directly\n",
    "# flow_el_steel = results_main[\n",
    "#     (\"<oemof.solph.buses._bus.Bus: 'electricity'>\", \"<oemof.solph.components._sink.Sink: 'steel_mill'>\")\n",
    "# ]['sequences']\n",
    "\n",
    "# print(flow_el_steel)\n",
    "\n"
   ]
  },
  {
   "cell_type": "code",
   "execution_count": 51,
   "metadata": {},
   "outputs": [
    {
     "ename": "KeyError",
     "evalue": "('electricity', 'steel_mill')",
     "output_type": "error",
     "traceback": [
      "\u001b[1;31m---------------------------------------------------------------------------\u001b[0m",
      "\u001b[1;31mKeyError\u001b[0m                                  Traceback (most recent call last)",
      "File \u001b[1;32mc:\\Users\\ann82611\\AppData\\Local\\Programs\\Python\\Python312\\Lib\\site-packages\\pandas\\core\\indexes\\base.py:3790\u001b[0m, in \u001b[0;36mIndex.get_loc\u001b[1;34m(self, key)\u001b[0m\n\u001b[0;32m   3789\u001b[0m \u001b[38;5;28;01mtry\u001b[39;00m:\n\u001b[1;32m-> 3790\u001b[0m     \u001b[38;5;28;01mreturn\u001b[39;00m \u001b[38;5;28;43mself\u001b[39;49m\u001b[38;5;241;43m.\u001b[39;49m\u001b[43m_engine\u001b[49m\u001b[38;5;241;43m.\u001b[39;49m\u001b[43mget_loc\u001b[49m\u001b[43m(\u001b[49m\u001b[43mcasted_key\u001b[49m\u001b[43m)\u001b[49m\n\u001b[0;32m   3791\u001b[0m \u001b[38;5;28;01mexcept\u001b[39;00m \u001b[38;5;167;01mKeyError\u001b[39;00m \u001b[38;5;28;01mas\u001b[39;00m err:\n",
      "File \u001b[1;32mindex.pyx:152\u001b[0m, in \u001b[0;36mpandas._libs.index.IndexEngine.get_loc\u001b[1;34m()\u001b[0m\n",
      "File \u001b[1;32mindex.pyx:181\u001b[0m, in \u001b[0;36mpandas._libs.index.IndexEngine.get_loc\u001b[1;34m()\u001b[0m\n",
      "File \u001b[1;32mpandas\\_libs\\hashtable_class_helper.pxi:7080\u001b[0m, in \u001b[0;36mpandas._libs.hashtable.PyObjectHashTable.get_item\u001b[1;34m()\u001b[0m\n",
      "File \u001b[1;32mpandas\\_libs\\hashtable_class_helper.pxi:7088\u001b[0m, in \u001b[0;36mpandas._libs.hashtable.PyObjectHashTable.get_item\u001b[1;34m()\u001b[0m\n",
      "\u001b[1;31mKeyError\u001b[0m: ('electricity', 'steel_mill')",
      "\nThe above exception was the direct cause of the following exception:\n",
      "\u001b[1;31mKeyError\u001b[0m                                  Traceback (most recent call last)",
      "Cell \u001b[1;32mIn[51], line 2\u001b[0m\n\u001b[0;32m      1\u001b[0m electricity_bus \u001b[38;5;241m=\u001b[39m views\u001b[38;5;241m.\u001b[39mnode(results_main, \u001b[38;5;124m'\u001b[39m\u001b[38;5;124melectricity\u001b[39m\u001b[38;5;124m'\u001b[39m)\n\u001b[1;32m----> 2\u001b[0m \u001b[38;5;28mprint\u001b[39m(\u001b[43melectricity_bus\u001b[49m\u001b[43m[\u001b[49m\u001b[38;5;124;43m'\u001b[39;49m\u001b[38;5;124;43msequences\u001b[39;49m\u001b[38;5;124;43m'\u001b[39;49m\u001b[43m]\u001b[49m\u001b[43m[\u001b[49m\u001b[43m(\u001b[49m\u001b[38;5;124;43m'\u001b[39;49m\u001b[38;5;124;43melectricity\u001b[39;49m\u001b[38;5;124;43m'\u001b[39;49m\u001b[43m,\u001b[49m\u001b[43m \u001b[49m\u001b[38;5;124;43m'\u001b[39;49m\u001b[38;5;124;43msteel_mill\u001b[39;49m\u001b[38;5;124;43m'\u001b[39;49m\u001b[43m)\u001b[49m\u001b[43m]\u001b[49m)\n",
      "File \u001b[1;32mc:\\Users\\ann82611\\AppData\\Local\\Programs\\Python\\Python312\\Lib\\site-packages\\pandas\\core\\frame.py:3893\u001b[0m, in \u001b[0;36mDataFrame.__getitem__\u001b[1;34m(self, key)\u001b[0m\n\u001b[0;32m   3891\u001b[0m \u001b[38;5;28;01mif\u001b[39;00m \u001b[38;5;28mself\u001b[39m\u001b[38;5;241m.\u001b[39mcolumns\u001b[38;5;241m.\u001b[39mnlevels \u001b[38;5;241m>\u001b[39m \u001b[38;5;241m1\u001b[39m:\n\u001b[0;32m   3892\u001b[0m     \u001b[38;5;28;01mreturn\u001b[39;00m \u001b[38;5;28mself\u001b[39m\u001b[38;5;241m.\u001b[39m_getitem_multilevel(key)\n\u001b[1;32m-> 3893\u001b[0m indexer \u001b[38;5;241m=\u001b[39m \u001b[38;5;28;43mself\u001b[39;49m\u001b[38;5;241;43m.\u001b[39;49m\u001b[43mcolumns\u001b[49m\u001b[38;5;241;43m.\u001b[39;49m\u001b[43mget_loc\u001b[49m\u001b[43m(\u001b[49m\u001b[43mkey\u001b[49m\u001b[43m)\u001b[49m\n\u001b[0;32m   3894\u001b[0m \u001b[38;5;28;01mif\u001b[39;00m is_integer(indexer):\n\u001b[0;32m   3895\u001b[0m     indexer \u001b[38;5;241m=\u001b[39m [indexer]\n",
      "File \u001b[1;32mc:\\Users\\ann82611\\AppData\\Local\\Programs\\Python\\Python312\\Lib\\site-packages\\pandas\\core\\indexes\\base.py:3797\u001b[0m, in \u001b[0;36mIndex.get_loc\u001b[1;34m(self, key)\u001b[0m\n\u001b[0;32m   3792\u001b[0m     \u001b[38;5;28;01mif\u001b[39;00m \u001b[38;5;28misinstance\u001b[39m(casted_key, \u001b[38;5;28mslice\u001b[39m) \u001b[38;5;129;01mor\u001b[39;00m (\n\u001b[0;32m   3793\u001b[0m         \u001b[38;5;28misinstance\u001b[39m(casted_key, abc\u001b[38;5;241m.\u001b[39mIterable)\n\u001b[0;32m   3794\u001b[0m         \u001b[38;5;129;01mand\u001b[39;00m \u001b[38;5;28many\u001b[39m(\u001b[38;5;28misinstance\u001b[39m(x, \u001b[38;5;28mslice\u001b[39m) \u001b[38;5;28;01mfor\u001b[39;00m x \u001b[38;5;129;01min\u001b[39;00m casted_key)\n\u001b[0;32m   3795\u001b[0m     ):\n\u001b[0;32m   3796\u001b[0m         \u001b[38;5;28;01mraise\u001b[39;00m InvalidIndexError(key)\n\u001b[1;32m-> 3797\u001b[0m     \u001b[38;5;28;01mraise\u001b[39;00m \u001b[38;5;167;01mKeyError\u001b[39;00m(key) \u001b[38;5;28;01mfrom\u001b[39;00m \u001b[38;5;21;01merr\u001b[39;00m\n\u001b[0;32m   3798\u001b[0m \u001b[38;5;28;01mexcept\u001b[39;00m \u001b[38;5;167;01mTypeError\u001b[39;00m:\n\u001b[0;32m   3799\u001b[0m     \u001b[38;5;66;03m# If we have a listlike key, _check_indexing_error will raise\u001b[39;00m\n\u001b[0;32m   3800\u001b[0m     \u001b[38;5;66;03m#  InvalidIndexError. Otherwise we fall through and re-raise\u001b[39;00m\n\u001b[0;32m   3801\u001b[0m     \u001b[38;5;66;03m#  the TypeError.\u001b[39;00m\n\u001b[0;32m   3802\u001b[0m     \u001b[38;5;28mself\u001b[39m\u001b[38;5;241m.\u001b[39m_check_indexing_error(key)\n",
      "\u001b[1;31mKeyError\u001b[0m: ('electricity', 'steel_mill')"
     ]
    }
   ],
   "source": [
    "electricity_bus = views.node(results_main, 'electricity')\n",
    "print(electricity_bus['sequences'][('electricity', 'steel_mill')])"
   ]
  }
 ],
 "metadata": {
  "kernelspec": {
   "display_name": "Python 3",
   "language": "python",
   "name": "python3"
  },
  "language_info": {
   "codemirror_mode": {
    "name": "ipython",
    "version": 3
   },
   "file_extension": ".py",
   "mimetype": "text/x-python",
   "name": "python",
   "nbconvert_exporter": "python",
   "pygments_lexer": "ipython3",
   "version": "3.12.1"
  }
 },
 "nbformat": 4,
 "nbformat_minor": 2
}
