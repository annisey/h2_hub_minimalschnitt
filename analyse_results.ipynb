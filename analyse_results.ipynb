{
 "cells": [
  {
   "cell_type": "markdown",
   "metadata": {},
   "source": [
    "### Analyze Main Results (Flow, Nodes)"
   ]
  },
  {
   "cell_type": "code",
   "execution_count": 6,
   "metadata": {},
   "outputs": [
    {
     "name": "stdout",
     "output_type": "stream",
     "text": [
      "<class 'pandas.core.frame.DataFrame'>\n",
      "Index: 2 entries, scalars to sequences\n",
      "Data columns (total 12 columns):\n",
      " #   Column                            Non-Null Count  Dtype \n",
      "---  ------                            --------------  ----- \n",
      " 0   (electricity, electricity_slack)  2 non-null      object\n",
      " 1   (electricity, electrolyzer)       2 non-null      object\n",
      " 2   (electricity, steel_mill)         2 non-null      object\n",
      " 3   (electrolyzer, h2_to_storage)     2 non-null      object\n",
      " 4   (grid, electricity)               2 non-null      object\n",
      " 5   (h2_ship, h2_to_storage)          2 non-null      object\n",
      " 6   (h2_storage, nan)                 2 non-null      object\n",
      " 7   (h2_storage, h2_to_production)    2 non-null      object\n",
      " 8   (h2_to_production, steel_mill)    2 non-null      object\n",
      " 9   (h2_to_storage, h2_storage)       2 non-null      object\n",
      " 10  (pv, electricity)                 2 non-null      object\n",
      " 11  (wind, electricity)               2 non-null      object\n",
      "dtypes: object(12)\n",
      "memory usage: 208.0+ bytes\n",
      "None\n",
      "                                              electricity  \\\n",
      "                                        electricity_slack   \n",
      "count                                                   2   \n",
      "unique                                                  2   \n",
      "top     Series([], Name: 2023-01-01 00:00:00, dtype: f...   \n",
      "freq                                                    1   \n",
      "\n",
      "                                                           \\\n",
      "                                             electrolyzer   \n",
      "count                                                   2   \n",
      "unique                                                  2   \n",
      "top     Series([], Name: 2023-01-01 00:00:00, dtype: f...   \n",
      "freq                                                    1   \n",
      "\n",
      "                                                           \\\n",
      "                                               steel_mill   \n",
      "count                                                   2   \n",
      "unique                                                  2   \n",
      "top     Series([], Name: 2023-01-01 00:00:00, dtype: f...   \n",
      "freq                                                    1   \n",
      "\n",
      "                                             electrolyzer  \\\n",
      "                                            h2_to_storage   \n",
      "count                                                   2   \n",
      "unique                                                  2   \n",
      "top     Series([], Name: 2023-01-01 00:00:00, dtype: f...   \n",
      "freq                                                    1   \n",
      "\n",
      "                                                     grid  \\\n",
      "                                              electricity   \n",
      "count                                                   2   \n",
      "unique                                                  2   \n",
      "top     Series([], Name: 2023-01-01 00:00:00, dtype: f...   \n",
      "freq                                                    1   \n",
      "\n",
      "                                                  h2_ship  \\\n",
      "                                            h2_to_storage   \n",
      "count                                                   2   \n",
      "unique                                                  2   \n",
      "top     Series([], Name: 2023-01-01 00:00:00, dtype: f...   \n",
      "freq                                                    1   \n",
      "\n",
      "                                               h2_storage  \\\n",
      "                                                      NaN   \n",
      "count                                                   2   \n",
      "unique                                                  2   \n",
      "top     Series([], Name: 2023-01-01 00:00:00, dtype: f...   \n",
      "freq                                                    1   \n",
      "\n",
      "                                                           \\\n",
      "                                         h2_to_production   \n",
      "count                                                   2   \n",
      "unique                                                  2   \n",
      "top     Series([], Name: 2023-01-01 00:00:00, dtype: f...   \n",
      "freq                                                    1   \n",
      "\n",
      "                                         h2_to_production  \\\n",
      "                                               steel_mill   \n",
      "count                                                   2   \n",
      "unique                                                  2   \n",
      "top     Series([], Name: 2023-01-01 00:00:00, dtype: f...   \n",
      "freq                                                    1   \n",
      "\n",
      "                                            h2_to_storage  \\\n",
      "                                               h2_storage   \n",
      "count                                                   2   \n",
      "unique                                                  2   \n",
      "top     Series([], Name: 2023-01-01 00:00:00, dtype: f...   \n",
      "freq                                                    1   \n",
      "\n",
      "                                                       pv  \\\n",
      "                                              electricity   \n",
      "count                                                   2   \n",
      "unique                                                  2   \n",
      "top     Series([], Name: 2023-01-01 00:00:00, dtype: f...   \n",
      "freq                                                    1   \n",
      "\n",
      "                                                     wind  \n",
      "                                              electricity  \n",
      "count                                                   2  \n",
      "unique                                                  2  \n",
      "top     Series([], Name: 2023-01-01 00:00:00, dtype: f...  \n",
      "freq                                                    1  \n"
     ]
    }
   ],
   "source": [
    "import pandas as pd\n",
    "import oemof.solph\n",
    "\n",
    "#restore and load energy system\n",
    "energy_system = oemof.solph.EnergySystem()\n",
    "energy_system.restore('C:\\\\Users\\\\ann82611\\\\ownCloud\\\\U-Platte\\\\04_Code\\\\hydrogen_hub\\\\h2_hub_minimalschnitt\\\\h2_hub_dumps', 'h2_hub_dump.oemof')\n",
    "\n",
    "results_main = energy_system.results['main']\n",
    "\n",
    "\n",
    "# Convert the results to a DataFrame\n",
    "results = pd.DataFrame.from_dict(results_main)\n",
    "print(results.info())\n",
    "print(results.describe())\n"
   ]
  },
  {
   "cell_type": "markdown",
   "metadata": {},
   "source": [
    "### Analyse Meta Results"
   ]
  },
  {
   "cell_type": "code",
   "execution_count": 7,
   "metadata": {},
   "outputs": [
    {
     "name": "stdout",
     "output_type": "stream",
     "text": [
      "<class 'pandas.core.frame.DataFrame'>\n",
      "Index: 17 entries, Name to Time\n",
      "Data columns (total 3 columns):\n",
      " #   Column     Non-Null Count  Dtype  \n",
      "---  ------     --------------  -----  \n",
      " 0   objective  17 non-null     float64\n",
      " 1   problem    8 non-null      object \n",
      " 2   solver     9 non-null      object \n",
      "dtypes: float64(1), object(2)\n",
      "memory usage: 544.0+ bytes\n",
      "None \n",
      "\n",
      "Obective:\n",
      "Name                     2.363038e+13\n",
      "Lower bound              2.363038e+13\n",
      "Upper bound              2.363038e+13\n",
      "Number of objectives     2.363038e+13\n",
      "Number of constraints    2.363038e+13\n",
      "Name: objective, dtype: float64\n",
      "Problem:\n",
      "Name                              unknown\n",
      "Lower bound              23630375160000.0\n",
      "Upper bound              23630375160000.0\n",
      "Number of objectives                    1\n",
      "Number of constraints               43801\n",
      "Name: problem, dtype: object\n",
      "Solver:\n",
      "Name                     NaN\n",
      "Lower bound              NaN\n",
      "Upper bound              NaN\n",
      "Number of objectives     NaN\n",
      "Number of constraints    NaN\n",
      "Name: solver, dtype: object\n"
     ]
    }
   ],
   "source": [
    "meta = energy_system.results['meta']\n",
    "meta = pd.DataFrame.from_dict(meta)\n",
    "\n",
    "print(meta.info(),'\\n')\n",
    "print(f\"Obective:\\n{meta['objective'].head()}\")\n",
    "print(f\"Problem:\\n{meta['problem'].head()}\")\n",
    "print(f\"Solver:\\n{meta['solver'].head()}\")"
   ]
  },
  {
   "cell_type": "code",
   "execution_count": 8,
   "metadata": {},
   "outputs": [
    {
     "name": "stdout",
     "output_type": "stream",
     "text": [
      "objective    0\n",
      "problem      9\n",
      "solver       8\n",
      "dtype: int64\n"
     ]
    }
   ],
   "source": [
    "#Check for missing values\n",
    "print(meta.isnull().sum())"
   ]
  },
  {
   "cell_type": "markdown",
   "metadata": {},
   "source": [
    "### Get Flows and nodes\n",
    "The keys of the results dictionary are tuples containing two nodes. Since flows have a starting node and an ending node, you get a list of all flows by filtering the results using the following expression:\n",
    "[oemof docu](https://oemof-solph.readthedocs.io/en/latest/usage.html#general-approach)"
   ]
  },
  {
   "cell_type": "code",
   "execution_count": 9,
   "metadata": {},
   "outputs": [
    {
     "name": "stdout",
     "output_type": "stream",
     "text": [
      "[(\"<oemof.solph.buses._bus.Bus: 'electricity'>\", \"<oemof.solph.components._sink.Sink: 'electricity_slack'>\"), (\"<oemof.solph.buses._bus.Bus: 'electricity'>\", \"<oemof.solph.components._converter.Converter: 'electrolyzer'>\"), (\"<oemof.solph.buses._bus.Bus: 'electricity'>\", \"<oemof.solph.components._sink.Sink: 'steel_mill'>\"), (\"<oemof.solph.components._converter.Converter: 'electrolyzer'>\", \"<oemof.solph.buses._bus.Bus: 'h2_to_storage'>\"), (\"<oemof.solph.components._source.Source: 'grid'>\", \"<oemof.solph.buses._bus.Bus: 'electricity'>\"), (\"<oemof.solph.components._source.Source: 'h2_ship'>\", \"<oemof.solph.buses._bus.Bus: 'h2_to_storage'>\"), (\"<oemof.solph.components._generic_storage.GenericStorage: 'h2_storage'>\", nan), (\"<oemof.solph.components._generic_storage.GenericStorage: 'h2_storage'>\", \"<oemof.solph.buses._bus.Bus: 'h2_to_production'>\"), (\"<oemof.solph.buses._bus.Bus: 'h2_to_production'>\", \"<oemof.solph.components._sink.Sink: 'steel_mill'>\"), (\"<oemof.solph.buses._bus.Bus: 'h2_to_storage'>\", \"<oemof.solph.components._generic_storage.GenericStorage: 'h2_storage'>\"), (\"<oemof.solph.components._source.Source: 'pv'>\", \"<oemof.solph.buses._bus.Bus: 'electricity'>\"), (\"<oemof.solph.components._source.Source: 'wind'>\", \"<oemof.solph.buses._bus.Bus: 'electricity'>\")]\n",
      "[]\n"
     ]
    }
   ],
   "source": [
    "flows = [x for x in results.keys() if x[1] is not None]\n",
    "nodes = [x for x in results.keys() if x[1] is None]\n",
    "\n",
    "print(flows)\n",
    "print(nodes)"
   ]
  },
  {
   "cell_type": "markdown",
   "metadata": {},
   "source": []
  },
  {
   "cell_type": "markdown",
   "metadata": {},
   "source": []
  },
  {
   "cell_type": "code",
   "execution_count": null,
   "metadata": {},
   "outputs": [],
   "source": []
  }
 ],
 "metadata": {
  "kernelspec": {
   "display_name": "Python 3",
   "language": "python",
   "name": "python3"
  },
  "language_info": {
   "codemirror_mode": {
    "name": "ipython",
    "version": 3
   },
   "file_extension": ".py",
   "mimetype": "text/x-python",
   "name": "python",
   "nbconvert_exporter": "python",
   "pygments_lexer": "ipython3",
   "version": "3.12.1"
  }
 },
 "nbformat": 4,
 "nbformat_minor": 2
}
