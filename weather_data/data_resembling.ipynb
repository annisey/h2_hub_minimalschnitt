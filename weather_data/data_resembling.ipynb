{
 "cells": [
  {
   "cell_type": "code",
   "execution_count": 2,
   "metadata": {},
   "outputs": [],
   "source": [
    "import pandas as pd"
   ]
  },
  {
   "cell_type": "markdown",
   "metadata": {},
   "source": [
    "### Load data and get info about data"
   ]
  },
  {
   "cell_type": "code",
   "execution_count": 4,
   "metadata": {},
   "outputs": [
    {
     "name": "stdout",
     "output_type": "stream",
     "text": [
      "<class 'pandas.core.frame.DataFrame'>\n",
      "RangeIndex: 262800 entries, 0 to 262799\n",
      "Data columns (total 5 columns):\n",
      " #   Column       Non-Null Count   Dtype  \n",
      "---  ------       --------------   -----  \n",
      " 0   Date         52561 non-null   object \n",
      " 1   P_wp         52561 non-null   float64\n",
      " 2   P_eaf        52561 non-null   float64\n",
      " 3   COE_agora    52561 non-null   float64\n",
      " 4   f_emiss_spc  262656 non-null  float64\n",
      "dtypes: float64(4), object(1)\n",
      "memory usage: 10.0+ MB\n"
     ]
    },
    {
     "name": "stderr",
     "output_type": "stream",
     "text": [
      "C:\\Users\\ann82611\\AppData\\Local\\Temp\\ipykernel_16044\\2540093008.py:1: DtypeWarning: Columns (0) have mixed types. Specify dtype option on import or set low_memory=False.\n",
      "  data = pd.read_csv(\"20230926_oemof_example_data.csv\")\n"
     ]
    },
    {
     "data": {
      "text/html": [
       "<div>\n",
       "<style scoped>\n",
       "    .dataframe tbody tr th:only-of-type {\n",
       "        vertical-align: middle;\n",
       "    }\n",
       "\n",
       "    .dataframe tbody tr th {\n",
       "        vertical-align: top;\n",
       "    }\n",
       "\n",
       "    .dataframe thead th {\n",
       "        text-align: right;\n",
       "    }\n",
       "</style>\n",
       "<table border=\"1\" class=\"dataframe\">\n",
       "  <thead>\n",
       "    <tr style=\"text-align: right;\">\n",
       "      <th></th>\n",
       "      <th>P_wp</th>\n",
       "      <th>P_eaf</th>\n",
       "      <th>COE_agora</th>\n",
       "      <th>f_emiss_spc</th>\n",
       "    </tr>\n",
       "  </thead>\n",
       "  <tbody>\n",
       "    <tr>\n",
       "      <th>count</th>\n",
       "      <td>52561.000000</td>\n",
       "      <td>52561.000000</td>\n",
       "      <td>52561.000000</td>\n",
       "      <td>262656.000000</td>\n",
       "    </tr>\n",
       "    <tr>\n",
       "      <th>mean</th>\n",
       "      <td>0.488865</td>\n",
       "      <td>0.593541</td>\n",
       "      <td>37.668461</td>\n",
       "      <td>483.839664</td>\n",
       "    </tr>\n",
       "    <tr>\n",
       "      <th>std</th>\n",
       "      <td>0.344325</td>\n",
       "      <td>0.082310</td>\n",
       "      <td>15.522593</td>\n",
       "      <td>110.569443</td>\n",
       "    </tr>\n",
       "    <tr>\n",
       "      <th>min</th>\n",
       "      <td>0.000000</td>\n",
       "      <td>0.000000</td>\n",
       "      <td>-90.000000</td>\n",
       "      <td>146.397622</td>\n",
       "    </tr>\n",
       "    <tr>\n",
       "      <th>25%</th>\n",
       "      <td>0.133524</td>\n",
       "      <td>0.555556</td>\n",
       "      <td>31.000000</td>\n",
       "      <td>410.791945</td>\n",
       "    </tr>\n",
       "    <tr>\n",
       "      <th>50%</th>\n",
       "      <td>0.492863</td>\n",
       "      <td>0.555556</td>\n",
       "      <td>38.000000</td>\n",
       "      <td>499.005738</td>\n",
       "    </tr>\n",
       "    <tr>\n",
       "      <th>75%</th>\n",
       "      <td>0.840081</td>\n",
       "      <td>0.555556</td>\n",
       "      <td>46.000000</td>\n",
       "      <td>570.315116</td>\n",
       "    </tr>\n",
       "    <tr>\n",
       "      <th>max</th>\n",
       "      <td>0.955962</td>\n",
       "      <td>0.822222</td>\n",
       "      <td>121.000000</td>\n",
       "      <td>715.227163</td>\n",
       "    </tr>\n",
       "  </tbody>\n",
       "</table>\n",
       "</div>"
      ],
      "text/plain": [
       "               P_wp         P_eaf     COE_agora    f_emiss_spc\n",
       "count  52561.000000  52561.000000  52561.000000  262656.000000\n",
       "mean       0.488865      0.593541     37.668461     483.839664\n",
       "std        0.344325      0.082310     15.522593     110.569443\n",
       "min        0.000000      0.000000    -90.000000     146.397622\n",
       "25%        0.133524      0.555556     31.000000     410.791945\n",
       "50%        0.492863      0.555556     38.000000     499.005738\n",
       "75%        0.840081      0.555556     46.000000     570.315116\n",
       "max        0.955962      0.822222    121.000000     715.227163"
      ]
     },
     "execution_count": 4,
     "metadata": {},
     "output_type": "execute_result"
    }
   ],
   "source": [
    "data = pd.read_csv(\"20230926_oemof_example_data.csv\")\n",
    "data.head()\n",
    "data.info()\n",
    "data.describe()"
   ]
  },
  {
   "cell_type": "markdown",
   "metadata": {},
   "source": [
    "### Turn 10 minute rythm in hourly rythm"
   ]
  },
  {
   "cell_type": "code",
   "execution_count": 10,
   "metadata": {},
   "outputs": [
    {
     "name": "stdout",
     "output_type": "stream",
     "text": [
      "<class 'pandas.core.frame.DataFrame'>\n",
      "RangeIndex: 8761 entries, 0 to 8760\n",
      "Data columns (total 5 columns):\n",
      " #   Column       Non-Null Count  Dtype         \n",
      "---  ------       --------------  -----         \n",
      " 0   Date         8761 non-null   datetime64[ns]\n",
      " 1   P_wp         8761 non-null   float64       \n",
      " 2   P_eaf        8761 non-null   float64       \n",
      " 3   COE_agora    8761 non-null   float64       \n",
      " 4   f_emiss_spc  8761 non-null   float64       \n",
      "dtypes: datetime64[ns](1), float64(4)\n",
      "memory usage: 342.4 KB\n",
      "                    Date      P_wp     P_eaf  COE_agora  f_emiss_spc\n",
      "0    2019-01-01 00:00:00  0.849913  0.216667       28.0   555.184683\n",
      "1    2019-01-01 01:00:00  0.867294  0.577778       10.0   542.127155\n",
      "2    2019-01-01 02:00:00  0.875198  0.582407       -4.0   535.560122\n",
      "3    2019-01-01 03:00:00  0.914339  0.613889      -10.0   529.404536\n",
      "4    2019-01-01 04:00:00  0.937844  0.577778       -7.0   528.096164\n",
      "...                  ...       ...       ...        ...          ...\n",
      "8756 2019-12-31 20:00:00  0.937926  0.624074       42.0   570.301611\n",
      "8757 2019-12-31 21:00:00  0.945537  0.576852       40.0   573.554166\n",
      "8758 2019-12-31 22:00:00  0.951546  0.591667       39.0   564.762296\n",
      "8759 2019-12-31 23:00:00  0.946776  0.545370       37.0   560.042099\n",
      "8760 2020-01-01 00:00:00  0.000000  0.000000        0.0   532.762142\n",
      "\n",
      "[8761 rows x 5 columns]\n"
     ]
    }
   ],
   "source": [
    "df = pd.DataFrame(data)\n",
    "\n",
    "#convert 'Date'- Spalte from object to datetime\n",
    "df['Date'] = pd.to_datetime(df['Date'], format='%Y-%m-%d %H:%M:%S')\n",
    "\n",
    "#set 'Date' culumn as index (to scan data and later set to hourly)\n",
    "df.set_index('Date', inplace=True)\n",
    "\n",
    "#set to hourly and calculate mean values\n",
    "df_hourly = df.resample('1H').mean()\n",
    "\n",
    "df_hourly = df_hourly.reset_index() #Index zurück in spalte verschieben\n",
    "\n",
    "df_hourly.info()\n",
    "df_hourly.describe()\n",
    "df_hourly.head()\n",
    "print(df_hourly)\n",
    "\n"
   ]
  },
  {
   "cell_type": "markdown",
   "metadata": {},
   "source": [
    "#### Export as csv to data file"
   ]
  },
  {
   "cell_type": "code",
   "execution_count": 11,
   "metadata": {},
   "outputs": [],
   "source": [
    "df_hourly.to_csv('wind_power.csv')"
   ]
  },
  {
   "cell_type": "markdown",
   "metadata": {},
   "source": [
    "## PV data resemling\n"
   ]
  },
  {
   "cell_type": "code",
   "execution_count": 4,
   "metadata": {},
   "outputs": [
    {
     "data": {
      "text/html": [
       "<div>\n",
       "<style scoped>\n",
       "    .dataframe tbody tr th:only-of-type {\n",
       "        vertical-align: middle;\n",
       "    }\n",
       "\n",
       "    .dataframe tbody tr th {\n",
       "        vertical-align: top;\n",
       "    }\n",
       "\n",
       "    .dataframe thead th {\n",
       "        text-align: right;\n",
       "    }\n",
       "</style>\n",
       "<table border=\"1\" class=\"dataframe\">\n",
       "  <thead>\n",
       "    <tr style=\"text-align: right;\">\n",
       "      <th></th>\n",
       "      <th>Wind Power</th>\n",
       "    </tr>\n",
       "  </thead>\n",
       "  <tbody>\n",
       "    <tr>\n",
       "      <th>count</th>\n",
       "      <td>8760.000000</td>\n",
       "    </tr>\n",
       "    <tr>\n",
       "      <th>mean</th>\n",
       "      <td>0.263766</td>\n",
       "    </tr>\n",
       "    <tr>\n",
       "      <th>std</th>\n",
       "      <td>0.279898</td>\n",
       "    </tr>\n",
       "    <tr>\n",
       "      <th>min</th>\n",
       "      <td>0.000000</td>\n",
       "    </tr>\n",
       "    <tr>\n",
       "      <th>25%</th>\n",
       "      <td>0.028892</td>\n",
       "    </tr>\n",
       "    <tr>\n",
       "      <th>50%</th>\n",
       "      <td>0.160324</td>\n",
       "    </tr>\n",
       "    <tr>\n",
       "      <th>75%</th>\n",
       "      <td>0.423341</td>\n",
       "    </tr>\n",
       "    <tr>\n",
       "      <th>max</th>\n",
       "      <td>1.000000</td>\n",
       "    </tr>\n",
       "  </tbody>\n",
       "</table>\n",
       "</div>"
      ],
      "text/plain": [
       "        Wind Power\n",
       "count  8760.000000\n",
       "mean      0.263766\n",
       "std       0.279898\n",
       "min       0.000000\n",
       "25%       0.028892\n",
       "50%       0.160324\n",
       "75%       0.423341\n",
       "max       1.000000"
      ]
     },
     "execution_count": 4,
     "metadata": {},
     "output_type": "execute_result"
    },
    {
     "ename": "",
     "evalue": "",
     "output_type": "error",
     "traceback": [
      "\u001b[1;31mThe Kernel crashed while executing code in the current cell or a previous cell. \n",
      "\u001b[1;31mPlease review the code in the cell(s) to identify a possible cause of the failure. \n",
      "\u001b[1;31mClick <a href='https://aka.ms/vscodeJupyterKernelCrash'>here</a> for more info. \n",
      "\u001b[1;31mView Jupyter <a href='command:jupyter.viewOutput'>log</a> for further details."
     ]
    }
   ],
   "source": [
    "pv_data = pd.read_csv('pv_data.csv')\n",
    "\n",
    "pv_data.describe()\n",
    "#pv_data.info()\n"
   ]
  }
 ],
 "metadata": {
  "kernelspec": {
   "display_name": "Python 3",
   "language": "python",
   "name": "python3"
  },
  "language_info": {
   "codemirror_mode": {
    "name": "ipython",
    "version": 3
   },
   "file_extension": ".py",
   "mimetype": "text/x-python",
   "name": "python",
   "nbconvert_exporter": "python",
   "pygments_lexer": "ipython3",
   "version": "3.12.1"
  }
 },
 "nbformat": 4,
 "nbformat_minor": 2
}
